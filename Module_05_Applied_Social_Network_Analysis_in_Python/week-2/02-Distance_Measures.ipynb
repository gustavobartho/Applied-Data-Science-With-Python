{
 "cells": [
  {
   "cell_type": "code",
   "execution_count": 3,
   "metadata": {},
   "outputs": [],
   "source": [
    "import networkx as nx"
   ]
  },
  {
   "cell_type": "markdown",
   "metadata": {},
   "source": [
    "# **Distance**\n",
    "The length of the shortest **path** between tho nodes.\n",
    "\n",
    "---\n",
    "\n",
    "#### **Paths**\n",
    "A sequence of nodes connected by an edge. \n",
    "* **Path Length**: Number of steps it contains from beginning to end.\n",
    "\n",
    "---\n",
    "\n",
    "Finding the distance from a node to every other node - Easy to do manually in small networks but tedious in large (real) networks.\n",
    "\n",
    "### **Breadth-first-search (BFS)**\n",
    "A systematic and efficient procedure for computing distances from a node to all other nodes in a large network by \"discovering\" nodes in layers.\n",
    "\n",
    "<img src=\"assets/bfs.png\">"
   ]
  },
  {
   "cell_type": "code",
   "execution_count": 8,
   "metadata": {},
   "outputs": [
    {
     "data": {
      "text/plain": [
       "[('A', 'K'),\n",
       " ('A', 'B'),\n",
       " ('B', 'C'),\n",
       " ('C', 'E'),\n",
       " ('C', 'F'),\n",
       " ('E', 'D'),\n",
       " ('E', 'H'),\n",
       " ('E', 'I'),\n",
       " ('F', 'G'),\n",
       " ('I', 'J')]"
      ]
     },
     "execution_count": 8,
     "metadata": {},
     "output_type": "execute_result"
    }
   ],
   "source": [
    "G = nx.Graph()\n",
    "G.add_edges_from([\n",
    "    ('A', 'K'), ('A', 'B'), ('B', 'C'), ('B', 'K'),\n",
    "    ('C', 'E'), ('C', 'F'), ('D', 'E'), ('E', 'F'),\n",
    "    ('E', 'H'), ('E', 'I'), ('F', 'G'), ('I', 'J'),\n",
    "])\n",
    "\n",
    "# bfs in graph from node A\n",
    "T = nx.bfs_tree(G, 'A')\n",
    "list(T.edges())"
   ]
  },
  {
   "cell_type": "code",
   "execution_count": 12,
   "metadata": {},
   "outputs": [
    {
     "name": "stdout",
     "output_type": "stream",
     "text": [
      "A  -  {'A': 0, 'K': 1, 'B': 1, 'C': 2, 'E': 3, 'F': 3, 'D': 4, 'H': 4, 'I': 4, 'G': 4, 'J': 5}\n",
      "K  -  {'K': 0, 'A': 1, 'B': 1, 'C': 2, 'E': 3, 'F': 3, 'D': 4, 'H': 4, 'I': 4, 'G': 4, 'J': 5}\n",
      "B  -  {'B': 0, 'A': 1, 'C': 1, 'K': 1, 'E': 2, 'F': 2, 'D': 3, 'H': 3, 'I': 3, 'G': 3, 'J': 4}\n",
      "C  -  {'C': 0, 'B': 1, 'E': 1, 'F': 1, 'A': 2, 'K': 2, 'D': 2, 'H': 2, 'I': 2, 'G': 2, 'J': 3}\n",
      "E  -  {'E': 0, 'C': 1, 'D': 1, 'F': 1, 'H': 1, 'I': 1, 'B': 2, 'G': 2, 'J': 2, 'A': 3, 'K': 3}\n",
      "F  -  {'F': 0, 'C': 1, 'E': 1, 'G': 1, 'B': 2, 'D': 2, 'H': 2, 'I': 2, 'A': 3, 'K': 3, 'J': 3}\n",
      "D  -  {'D': 0, 'E': 1, 'C': 2, 'F': 2, 'H': 2, 'I': 2, 'B': 3, 'G': 3, 'J': 3, 'A': 4, 'K': 4}\n",
      "H  -  {'H': 0, 'E': 1, 'C': 2, 'D': 2, 'F': 2, 'I': 2, 'B': 3, 'G': 3, 'J': 3, 'A': 4, 'K': 4}\n",
      "I  -  {'I': 0, 'E': 1, 'J': 1, 'C': 2, 'D': 2, 'F': 2, 'H': 2, 'B': 3, 'G': 3, 'A': 4, 'K': 4}\n",
      "G  -  {'G': 0, 'F': 1, 'C': 2, 'E': 2, 'B': 3, 'D': 3, 'H': 3, 'I': 3, 'A': 4, 'K': 4, 'J': 4}\n",
      "J  -  {'J': 0, 'I': 1, 'E': 2, 'C': 3, 'D': 3, 'F': 3, 'H': 3, 'B': 4, 'G': 4, 'A': 5, 'K': 5}\n"
     ]
    }
   ],
   "source": [
    "# get shortest path from every other node\n",
    "for n in list(G.nodes()):\n",
    "    print(n, ' - ', nx.shortest_path_length(G, n))"
   ]
  },
  {
   "cell_type": "markdown",
   "metadata": {},
   "source": [
    "### **Distance Measures**\n",
    "\n",
    "#### **Characterize the distance** between all pairs of nodes in a graph\n",
    "\n",
    "**Average distance** between every pair of nodes."
   ]
  },
  {
   "cell_type": "code",
   "execution_count": 13,
   "metadata": {},
   "outputs": [
    {
     "data": {
      "text/plain": [
       "2.5272727272727273"
      ]
     },
     "execution_count": 13,
     "metadata": {},
     "output_type": "execute_result"
    }
   ],
   "source": [
    "nx.average_shortest_path_length(G)"
   ]
  },
  {
   "cell_type": "markdown",
   "metadata": {},
   "source": [
    "**Diameter**: Maximum distance between any pair of nodes."
   ]
  },
  {
   "cell_type": "code",
   "execution_count": 14,
   "metadata": {},
   "outputs": [
    {
     "data": {
      "text/plain": [
       "5"
      ]
     },
     "execution_count": 14,
     "metadata": {},
     "output_type": "execute_result"
    }
   ],
   "source": [
    "nx.diameter(G)"
   ]
  },
  {
   "cell_type": "markdown",
   "metadata": {},
   "source": [
    "The **Eccentricity** of a node `n` is the largest distance between `n` and all other nodes"
   ]
  },
  {
   "cell_type": "code",
   "execution_count": 17,
   "metadata": {},
   "outputs": [
    {
     "data": {
      "text/plain": [
       "{'A': 5,\n",
       " 'K': 5,\n",
       " 'B': 4,\n",
       " 'C': 3,\n",
       " 'E': 3,\n",
       " 'F': 3,\n",
       " 'D': 4,\n",
       " 'H': 4,\n",
       " 'I': 4,\n",
       " 'G': 4,\n",
       " 'J': 5}"
      ]
     },
     "execution_count": 17,
     "metadata": {},
     "output_type": "execute_result"
    }
   ],
   "source": [
    "nx.eccentricity(G)"
   ]
  },
  {
   "cell_type": "markdown",
   "metadata": {},
   "source": [
    "The **radius** of a graph is the minimum eccentricity."
   ]
  },
  {
   "cell_type": "code",
   "execution_count": 18,
   "metadata": {},
   "outputs": [
    {
     "data": {
      "text/plain": [
       "3"
      ]
     },
     "execution_count": 18,
     "metadata": {},
     "output_type": "execute_result"
    }
   ],
   "source": [
    "nx.radius(G)"
   ]
  },
  {
   "cell_type": "markdown",
   "metadata": {},
   "source": [
    "#### **Summarize the distance** between all pairs of nodes in a graph\n",
    "\n",
    "The **Periphery** of a graph is the set of nodes that have eccentricity equal to the diameter"
   ]
  },
  {
   "cell_type": "code",
   "execution_count": 19,
   "metadata": {},
   "outputs": [
    {
     "data": {
      "text/plain": [
       "['A', 'K', 'J']"
      ]
     },
     "execution_count": 19,
     "metadata": {},
     "output_type": "execute_result"
    }
   ],
   "source": [
    "nx.periphery(G)"
   ]
  },
  {
   "cell_type": "markdown",
   "metadata": {},
   "source": [
    "The **Center** of a graph is the set of nodes that have eccentricity equal to the radius"
   ]
  },
  {
   "cell_type": "code",
   "execution_count": 20,
   "metadata": {},
   "outputs": [
    {
     "data": {
      "text/plain": [
       "['C', 'E', 'F']"
      ]
     },
     "execution_count": 20,
     "metadata": {},
     "output_type": "execute_result"
    }
   ],
   "source": [
    "nx.center(G)"
   ]
  }
 ],
 "metadata": {
  "kernelspec": {
   "display_name": "data-science",
   "language": "python",
   "name": "python3"
  },
  "language_info": {
   "codemirror_mode": {
    "name": "ipython",
    "version": 3
   },
   "file_extension": ".py",
   "mimetype": "text/x-python",
   "name": "python",
   "nbconvert_exporter": "python",
   "pygments_lexer": "ipython3",
   "version": "3.11.5"
  }
 },
 "nbformat": 4,
 "nbformat_minor": 2
}
