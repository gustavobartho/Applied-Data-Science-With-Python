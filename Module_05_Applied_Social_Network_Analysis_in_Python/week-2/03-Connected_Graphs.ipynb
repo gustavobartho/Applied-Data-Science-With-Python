{
 "cells": [
  {
   "cell_type": "code",
   "execution_count": 41,
   "metadata": {},
   "outputs": [],
   "source": [
    "import networkx as nx"
   ]
  },
  {
   "cell_type": "markdown",
   "metadata": {},
   "source": [
    "# **Connected Graphs**\n",
    "\n",
    "### **Undirected Graphs**\n",
    "<img src=\"../assets/undirected_graph.png\" width=500px>\n",
    "\n",
    "An undirected graph is **connected** if, for every pair of nodes, there is a path between them"
   ]
  },
  {
   "cell_type": "code",
   "execution_count": 42,
   "metadata": {},
   "outputs": [
    {
     "data": {
      "text/plain": [
       "True"
      ]
     },
     "execution_count": 42,
     "metadata": {},
     "output_type": "execute_result"
    }
   ],
   "source": [
    "G = nx.read_adjlist(\n",
    "    '../assets/undirected_graph.txt', \n",
    "    nodetype=str,\n",
    "    create_using=nx.Graph()\n",
    ")\n",
    "\n",
    "nx.is_connected(G)"
   ]
  },
  {
   "cell_type": "markdown",
   "metadata": {},
   "source": [
    "Disconnecting `G`--`A` and `A`--`N`the graph becomes disconnected."
   ]
  },
  {
   "cell_type": "code",
   "execution_count": 43,
   "metadata": {},
   "outputs": [
    {
     "name": "stdout",
     "output_type": "stream",
     "text": [
      "False\n"
     ]
    }
   ],
   "source": [
    "G.remove_edges_from([('A', 'G'), ('A', 'N')])\n",
    "\n",
    "print(nx.is_connected(G))"
   ]
  },
  {
   "cell_type": "markdown",
   "metadata": {},
   "source": [
    "##### **Connected Components**\n",
    "A subset of nodes such as:\n",
    "* Every node in the subset has a path to every other node.\n",
    "* No other node outside of the subset has a path to any node inside the subset."
   ]
  },
  {
   "cell_type": "code",
   "execution_count": 44,
   "metadata": {},
   "outputs": [
    {
     "name": "stdout",
     "output_type": "stream",
     "text": [
      "Without A--G and A--N\n",
      "2\n",
      "[{'A', 'D', 'C', 'B', 'E'}, {'N', 'I', 'K', 'O', 'G', 'J', 'M', 'H', 'L', 'F'}]\n",
      "{'F', 'N', 'I', 'G', 'O', 'K', 'J', 'M', 'L', 'H'}\n",
      "With A--G and A--N\n",
      "1\n",
      "[{'N', 'A', 'I', 'G', 'O', 'K', 'D', 'J', 'C', 'M', 'H', 'B', 'L', 'E', 'F'}]\n",
      "{'F', 'N', 'A', 'I', 'G', 'O', 'K', 'D', 'J', 'C', 'M', 'B', 'L', 'E', 'H'}\n"
     ]
    }
   ],
   "source": [
    "print('Without A--G and A--N')\n",
    "# Number of CCs\n",
    "print(nx.number_connected_components(G))\n",
    "# CCs subsets\n",
    "print(list(nx.connected_components(G)))\n",
    "# CC a given node is in\n",
    "print(nx.node_connected_component(G, 'F'))\n",
    "\n",
    "G.add_edges_from([('A', 'G'), ('A', 'N')])\n",
    "\n",
    "print('With A--G and A--N')\n",
    "# Number of CCs\n",
    "print(nx.number_connected_components(G))\n",
    "# CCs subsets\n",
    "print(list(nx.connected_components(G)))\n",
    "# CC a given node is in\n",
    "print(nx.node_connected_component(G, 'F'))"
   ]
  },
  {
   "cell_type": "markdown",
   "metadata": {},
   "source": [
    "### **Directed Graphs**\n",
    "<img src=\"../assets/directed_graph.png\" width=500px>\n",
    "\n",
    "A directed graph is **strongly connected** if, for every pair of nodes `u` and `v`, there is a directed path from `u` to `v` and a directed path from `v` to `u`.\n",
    "\n"
   ]
  },
  {
   "cell_type": "code",
   "execution_count": 45,
   "metadata": {},
   "outputs": [
    {
     "data": {
      "text/plain": [
       "False"
      ]
     },
     "execution_count": 45,
     "metadata": {},
     "output_type": "execute_result"
    }
   ],
   "source": [
    "D = nx.read_adjlist(\n",
    "    '../assets/directed_graph.txt', \n",
    "    nodetype=str,\n",
    "    create_using=nx.DiGraph()\n",
    ")\n",
    "\n",
    "nx.is_strongly_connected(D)\n",
    "# There is no path fom A to H for example"
   ]
  },
  {
   "cell_type": "markdown",
   "metadata": {},
   "source": [
    "A directed graph is **weakly connected** if replacing all directed edges with undirected edges produces a connected undirected graph."
   ]
  },
  {
   "cell_type": "code",
   "execution_count": 46,
   "metadata": {},
   "outputs": [
    {
     "data": {
      "text/plain": [
       "True"
      ]
     },
     "execution_count": 46,
     "metadata": {},
     "output_type": "execute_result"
    }
   ],
   "source": [
    "nx.is_weakly_connected(D)"
   ]
  },
  {
   "cell_type": "markdown",
   "metadata": {},
   "source": [
    "##### **Strongly Connected Components**\n",
    "A subset of nodes such as:\n",
    "* Every node in the subset has a **directed** path to every other node.\n",
    "* No other node has a **directed** path to and from every node in the subset."
   ]
  },
  {
   "cell_type": "code",
   "execution_count": 47,
   "metadata": {},
   "outputs": [
    {
     "data": {
      "text/plain": [
       "[{'M'},\n",
       " {'L'},\n",
       " {'K'},\n",
       " {'A', 'B', 'C', 'D', 'E', 'F', 'G', 'J', 'N', 'O'},\n",
       " {'H', 'I'}]"
      ]
     },
     "execution_count": 47,
     "metadata": {},
     "output_type": "execute_result"
    }
   ],
   "source": [
    "list(nx.strongly_connected_components(D))"
   ]
  },
  {
   "cell_type": "markdown",
   "metadata": {},
   "source": [
    "##### **Weakly Connected Components**\n",
    "A subset of nodes such as, after replacing the directed edges by undirected edges.:\n",
    "* Form a Undirected Connected Component"
   ]
  },
  {
   "cell_type": "code",
   "execution_count": 48,
   "metadata": {},
   "outputs": [
    {
     "data": {
      "text/plain": [
       "[{'A', 'B', 'C', 'D', 'E', 'F', 'G', 'H', 'I', 'J', 'K', 'L', 'M', 'N', 'O'}]"
      ]
     },
     "execution_count": 48,
     "metadata": {},
     "output_type": "execute_result"
    }
   ],
   "source": [
    "list(nx.weakly_connected_components(D))"
   ]
  },
  {
   "cell_type": "markdown",
   "metadata": {},
   "source": [
    "---\n",
    "\n",
    "# **Robustness**\n",
    "Network Robustness is the ability of a network to maintain its general structural properties when it faces failures or attacks.\n",
    "\n",
    "* **Type of attacks**: removal of nodes or edges.\n",
    "* **Structural properties**: connectivity\n",
    "\n",
    "### **Undirected Graphs**\n",
    "<img src='../assets/undirected_graph.png' width=500px>\n",
    "\n",
    "##### **Disconnecting a Graph**\n",
    "What is the smaller number of **nodes** that can be removed from this graph in order to disconnect it?"
   ]
  },
  {
   "cell_type": "code",
   "execution_count": 49,
   "metadata": {},
   "outputs": [
    {
     "name": "stdout",
     "output_type": "stream",
     "text": [
      "1\n",
      "{'A'}\n"
     ]
    }
   ],
   "source": [
    "# How many nodes needs to be removed in order to disconnect\n",
    "print(nx.node_connectivity(G))\n",
    "# Witch node to remove in order to disconnect the graph\n",
    "print(nx.minimum_node_cut(G))"
   ]
  },
  {
   "cell_type": "markdown",
   "metadata": {},
   "source": [
    "What is the smallest number of **edges** that can be removed from this graph in order to disconnect it?"
   ]
  },
  {
   "cell_type": "code",
   "execution_count": 50,
   "metadata": {},
   "outputs": [
    {
     "name": "stdout",
     "output_type": "stream",
     "text": [
      "2\n",
      "{('G', 'H'), ('I', 'H')}\n"
     ]
    }
   ],
   "source": [
    "# How many edges needs to be removed in order to disconnect it\n",
    "print(nx.edge_connectivity(G))\n",
    "# Witch edges to remove in order to disconnect it\n",
    "print(nx.minimum_edge_cut(G))"
   ]
  },
  {
   "cell_type": "markdown",
   "metadata": {},
   "source": [
    "**Robust** networks have **large** minimum node and edges cut"
   ]
  },
  {
   "cell_type": "markdown",
   "metadata": {},
   "source": [
    "### **Directed Graphs**\n",
    "<img src=\"../assets/directed_graph.png\" width=500px>\n",
    "\n",
    "##### **Simple Paths**\n",
    "Imagine node `G` wants to send a message to node `L` by passing it along to other nodes in this network.\n",
    "\n",
    "What options does `G` have to deliver the message?\n"
   ]
  },
  {
   "cell_type": "code",
   "execution_count": 51,
   "metadata": {},
   "outputs": [
    {
     "data": {
      "text/plain": [
       "[['G', 'A', 'N', 'L'],\n",
       " ['G', 'A', 'N', 'O', 'L'],\n",
       " ['G', 'A', 'N', 'O', 'K', 'L'],\n",
       " ['G', 'J', 'O', 'L'],\n",
       " ['G', 'J', 'O', 'K', 'L']]"
      ]
     },
     "execution_count": 51,
     "metadata": {},
     "output_type": "execute_result"
    }
   ],
   "source": [
    "list(nx.all_simple_paths(D, 'G', 'L'))"
   ]
  },
  {
   "cell_type": "markdown",
   "metadata": {},
   "source": [
    "##### **Node Connectivity**\n",
    "If we wanted to block the message from `G` to `L` by removing **nodes** from the network, how many nodes would we need to remove?"
   ]
  },
  {
   "cell_type": "code",
   "execution_count": 52,
   "metadata": {},
   "outputs": [
    {
     "name": "stdout",
     "output_type": "stream",
     "text": [
      "2\n",
      "{'N', 'O'}\n"
     ]
    }
   ],
   "source": [
    "# Minimum number of nodes that would have to be removed\n",
    "print(nx.node_connectivity(D, 'G', 'L'))\n",
    "# Witch nodes\n",
    "print(nx.minimum_node_cut(D, 'G', 'L'))"
   ]
  },
  {
   "cell_type": "markdown",
   "metadata": {},
   "source": [
    "##### **Edge Connectivity**\n",
    "If we wanted to block the message from `G` to `L` by removing **edges** from the network, how many edges would we need to remove?"
   ]
  },
  {
   "cell_type": "code",
   "execution_count": 53,
   "metadata": {},
   "outputs": [
    {
     "name": "stdout",
     "output_type": "stream",
     "text": [
      "2\n",
      "{('A', 'N'), ('J', 'O')}\n"
     ]
    }
   ],
   "source": [
    "# Minimum number of edges that would have to be removed\n",
    "print(nx.edge_connectivity(D, 'G', 'L'))\n",
    "# Witch edges\n",
    "print(nx.minimum_edge_cut(D, 'G', 'L'))"
   ]
  }
 ],
 "metadata": {
  "kernelspec": {
   "display_name": "data-science",
   "language": "python",
   "name": "python3"
  },
  "language_info": {
   "codemirror_mode": {
    "name": "ipython",
    "version": 3
   },
   "file_extension": ".py",
   "mimetype": "text/x-python",
   "name": "python",
   "nbconvert_exporter": "python",
   "pygments_lexer": "ipython3",
   "version": "3.11.5"
  }
 },
 "nbformat": 4,
 "nbformat_minor": 2
}
