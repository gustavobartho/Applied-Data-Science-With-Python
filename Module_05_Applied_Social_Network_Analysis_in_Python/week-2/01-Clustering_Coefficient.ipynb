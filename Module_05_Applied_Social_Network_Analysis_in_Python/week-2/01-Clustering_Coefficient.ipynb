{
 "cells": [
  {
   "cell_type": "markdown",
   "metadata": {},
   "source": [
    "# **Clustering Coefficient**\n",
    "\n",
    "* **Triadic Closure**:  The tendency for people who share connections in a social network to become connected.\n",
    "\n",
    "* **Local Clustering Coefficient of a Node**: Fraction of pairs of the node's friends that are friends with each other."
   ]
  },
  {
   "cell_type": "code",
   "execution_count": 2,
   "metadata": {},
   "outputs": [
    {
     "name": "stdout",
     "output_type": "stream",
     "text": [
      "0.3333333333333333\n",
      "0.6666666666666666\n",
      "0\n"
     ]
    }
   ],
   "source": [
    "import networkx as nx\n",
    "\n",
    "G = nx.Graph()\n",
    "G.add_edges_from([\n",
    "    ('A', 'K'), ('A', 'B'), ('A', 'C'), ('B', 'C'), ('B', 'K'),\n",
    "    ('C', 'E'), ('C', 'F'), ('D', 'E'), ('E', 'F'), ('E', 'H'),\n",
    "    ('F', 'G'), ('I', 'J')\n",
    "])\n",
    "\n",
    "print(nx.clustering(G, 'F'))\n",
    "print(nx.clustering(G, 'A'))\n",
    "print(nx.clustering(G, 'J'))"
   ]
  },
  {
   "cell_type": "markdown",
   "metadata": {},
   "source": [
    "### **Global Clustering Coefficient**\n",
    "\n",
    "Measuring clustering on the whole network:\n",
    "\n",
    "* **Approach I**: Average local clustering coefficient over all nodes in the graph."
   ]
  },
  {
   "cell_type": "code",
   "execution_count": 4,
   "metadata": {},
   "outputs": [
    {
     "data": {
      "text/plain": [
       "0.28787878787878785"
      ]
     },
     "execution_count": 4,
     "metadata": {},
     "output_type": "execute_result"
    }
   ],
   "source": [
    "nx.average_clustering(G)"
   ]
  },
  {
   "cell_type": "markdown",
   "metadata": {},
   "source": [
    "* **Approach II**: Percentage of \"open triads\" that are triangles in a network.\n",
    "    * **Triangles** are simply three nodes that are connected by three edges. \n",
    "\n",
    "    * **Open Triads** are three nodes that are connected by only two edges. A triangle actually contains three different open triads.\n",
    "\n",
    "    * **Transitivity** = ${3 \\times Number\\ of\\ closed\\ tringles}\\over{Number\\ of\\ open\\ triads}$"
   ]
  },
  {
   "cell_type": "code",
   "execution_count": 5,
   "metadata": {},
   "outputs": [
    {
     "data": {
      "text/plain": [
       "0.4090909090909091"
      ]
     },
     "execution_count": 5,
     "metadata": {},
     "output_type": "execute_result"
    }
   ],
   "source": [
    "nx.transitivity(G)"
   ]
  },
  {
   "cell_type": "markdown",
   "metadata": {},
   "source": [
    "### **Transitivity VS Average Clustering Coefficient**\n",
    "* Both measure the tendency for edges to form triangles.\n",
    "* Transitivity weights nodes with large degree higher.\n"
   ]
  },
  {
   "cell_type": "markdown",
   "metadata": {},
   "source": [
    "### **Summary**\n",
    "\n",
    "* **Clustering Coefficient** measures the degree to which nodes in a network tend to \"cluster\" or form triangles.\n",
    "\n",
    "    * **Local Cluster Coefficient**: Fraction of pairs of node's friends that are friends with each other.\n",
    "\n",
    "    * **Global Clustering Coefficient**\n",
    "        * **Average Local Clustering Coefficient**\n",
    "        * **Transitivity**: Ratio of number of triangles and number of \"open triads\" - Puts larger weight on high degree nodes."
   ]
  }
 ],
 "metadata": {
  "kernelspec": {
   "display_name": "data-science",
   "language": "python",
   "name": "python3"
  },
  "language_info": {
   "codemirror_mode": {
    "name": "ipython",
    "version": 3
   },
   "file_extension": ".py",
   "mimetype": "text/x-python",
   "name": "python",
   "nbconvert_exporter": "python",
   "pygments_lexer": "ipython3",
   "version": "3.11.5"
  }
 },
 "nbformat": 4,
 "nbformat_minor": 2
}
