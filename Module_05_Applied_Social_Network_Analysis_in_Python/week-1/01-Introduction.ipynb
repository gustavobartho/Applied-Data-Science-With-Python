{
 "cells": [
  {
   "cell_type": "markdown",
   "metadata": {},
   "source": [
    "# **Network (or Graph)**\n",
    "A representation of connections among a set of items.\n",
    "* Items are called **nodes (or vertices)**\n",
    "* Connections are called **edges (or link ties)**\n",
    "\n",
    "### Examples\n",
    "* **Social Networks**\n",
    "    * Nodes: People\n",
    "    * Edges: Relationship between the people\n",
    "* **E-mail communication Network**\n",
    "    * Nodes: Employees from  a company\n",
    "    * Edges: Communication trough email\n",
    "* **Network of directed flights**\n",
    "    * Nodes: Airports\n",
    "    * Edges: Airplanes flight routes\n",
    "* **Bus transportation Network**\n",
    "    * Nodes: Bus stops\n",
    "    * Edges: Bus routes"
   ]
  },
  {
   "cell_type": "code",
   "execution_count": 2,
   "metadata": {},
   "outputs": [],
   "source": [
    "# networkx - package for working with graphs\n",
    "import networkx as nx\n",
    "\n",
    "# creates a Graph\n",
    "G = nx.Graph()\n",
    "\n",
    "# creates the edge between two nodes\n",
    "G.add_edge('A', 'B')\n",
    "G.add_edge('B', 'C')"
   ]
  },
  {
   "cell_type": "markdown",
   "metadata": {},
   "source": [
    "### **Edge Direction**\n",
    "* **Undirected network**: edges have no direction\n",
    "* **Directed network**: edges have direction"
   ]
  },
  {
   "cell_type": "code",
   "execution_count": 3,
   "metadata": {},
   "outputs": [],
   "source": [
    "# undirected network: A -- B -- C\n",
    "G_u = nx.Graph()\n",
    "G_u.add_edge('A', 'B')\n",
    "G_u.add_edge('B', 'C')\n",
    "\n",
    "# directed network: A -> B <- C\n",
    "G_d = nx.DiGraph()\n",
    "G_d.add_edge('A', 'B')\n",
    "G_d.add_edge('C', 'B')"
   ]
  },
  {
   "cell_type": "markdown",
   "metadata": {},
   "source": [
    "### **Weighted Networks**\n",
    "Not all relationships are equal. Soma edges cary higher weight than others. A **weighted network** is a network where edges are assigned a (typically numerical) value."
   ]
  },
  {
   "cell_type": "code",
   "execution_count": 4,
   "metadata": {},
   "outputs": [],
   "source": [
    "G_w = nx.Graph()\n",
    "G_w.add_edge('A', 'B', weight=6)\n",
    "G_w.add_edge('B', 'C', weight=13)"
   ]
  },
  {
   "cell_type": "markdown",
   "metadata": {},
   "source": [
    "### **Signed Networks**\n",
    "Some networks can cary information about friendship and antagonism based on conflict or disagreement. A **signed network** is a network where edges are assigned positive or negative sign.\n"
   ]
  },
  {
   "cell_type": "code",
   "execution_count": 5,
   "metadata": {},
   "outputs": [],
   "source": [
    "G_s = nx.Graph()\n",
    "G_s.add_edge('A', 'B', sign='+')\n",
    "G_s.add_edge('B', 'C', sign='-')"
   ]
  },
  {
   "cell_type": "markdown",
   "metadata": {},
   "source": [
    "### **Other Edge Attributes**\n",
    "Edges can carry many other label attributes. Like the relation tag"
   ]
  },
  {
   "cell_type": "code",
   "execution_count": 6,
   "metadata": {},
   "outputs": [],
   "source": [
    "G = nx.Graph()\n",
    "G.add_edge('A', 'B', relation='friend')\n",
    "G.add_edge('B', 'C', relation='coworker')"
   ]
  },
  {
   "cell_type": "markdown",
   "metadata": {},
   "source": [
    "### **Multigraphs**\n",
    "A pair of nodes can have different types of relationships simultaneously. A **multigraph** is a network where multiple edges can connect the same nodes (parallel edges)\n"
   ]
  },
  {
   "cell_type": "code",
   "execution_count": 7,
   "metadata": {},
   "outputs": [
    {
     "data": {
      "text/plain": [
       "1"
      ]
     },
     "execution_count": 7,
     "metadata": {},
     "output_type": "execute_result"
    }
   ],
   "source": [
    "G_m = nx.MultiGraph()\n",
    "G_m.add_edge('A', 'B', relation='friend')\n",
    "G_m.add_edge('A', 'B', relation='neighbor')"
   ]
  },
  {
   "cell_type": "markdown",
   "metadata": {},
   "source": [
    "## **Edge Attributes**\n",
    "\n",
    "#### **Unirected Networks**"
   ]
  },
  {
   "cell_type": "code",
   "execution_count": 8,
   "metadata": {},
   "outputs": [
    {
     "data": {
      "text/plain": [
       "[('A', 'B'), ('B', 'C')]"
      ]
     },
     "execution_count": 8,
     "metadata": {},
     "output_type": "execute_result"
    }
   ],
   "source": [
    "G = nx.Graph()\n",
    "G.add_edge('A', 'B', weight=6, relation='family')\n",
    "G.add_edge('B', 'C', weight=13, relation='friend')\n",
    "\n",
    "#list of all edges, without their attributes\n",
    "list(G.edges())"
   ]
  },
  {
   "cell_type": "code",
   "execution_count": 9,
   "metadata": {},
   "outputs": [
    {
     "data": {
      "text/plain": [
       "[('A', 'B', {'weight': 6, 'relation': 'family'}),\n",
       " ('B', 'C', {'weight': 13, 'relation': 'friend'})]"
      ]
     },
     "execution_count": 9,
     "metadata": {},
     "output_type": "execute_result"
    }
   ],
   "source": [
    "#list of all edges, with their attributes\n",
    "list(G.edges(data=True))"
   ]
  },
  {
   "cell_type": "code",
   "execution_count": 10,
   "metadata": {},
   "outputs": [
    {
     "data": {
      "text/plain": [
       "[('A', 'B', 'family'), ('B', 'C', 'friend')]"
      ]
     },
     "execution_count": 10,
     "metadata": {},
     "output_type": "execute_result"
    }
   ],
   "source": [
    "#list of all edges, with attribute relation only\n",
    "list(G.edges(data='relation'))"
   ]
  },
  {
   "cell_type": "code",
   "execution_count": 11,
   "metadata": {},
   "outputs": [
    {
     "name": "stdout",
     "output_type": "stream",
     "text": [
      "{'weight': 6, 'relation': 'family'}\n",
      "6\n"
     ]
    }
   ],
   "source": [
    "# access a particular ede attributes\n",
    "print(G.edges['A', 'B'])\n",
    "print(G.edges['A', 'B']['weight'])"
   ]
  },
  {
   "cell_type": "markdown",
   "metadata": {},
   "source": [
    "#### **Directed Networks**"
   ]
  },
  {
   "cell_type": "code",
   "execution_count": 12,
   "metadata": {},
   "outputs": [
    {
     "data": {
      "text/plain": [
       "[('A', 'B'), ('C', 'B')]"
      ]
     },
     "execution_count": 12,
     "metadata": {},
     "output_type": "execute_result"
    }
   ],
   "source": [
    "G = nx.DiGraph()\n",
    "G.add_edge('A', 'B', weight=6, relation='family')\n",
    "G.add_edge('C', 'B', weight=13, relation='friend')\n",
    "\n",
    "#list of all edges, without their attributes\n",
    "list(G.edges())"
   ]
  },
  {
   "cell_type": "code",
   "execution_count": 13,
   "metadata": {},
   "outputs": [
    {
     "name": "stdout",
     "output_type": "stream",
     "text": [
      "{'weight': 6, 'relation': 'family'}\n",
      "6\n"
     ]
    }
   ],
   "source": [
    "# access a particular ede attributes\n",
    "print(G.edges['A', 'B'])\n",
    "print(G.edges['A', 'B']['weight'])"
   ]
  },
  {
   "cell_type": "code",
   "execution_count": 14,
   "metadata": {},
   "outputs": [
    {
     "name": "stdout",
     "output_type": "stream",
     "text": [
      "ERROR 'C'\n"
     ]
    }
   ],
   "source": [
    "# access a unexisting ede attributes\n",
    "try:\n",
    "    print(G.edges['B', 'C'])\n",
    "    print(G.edges['B', 'C']['weight'])\n",
    "except Exception as e:\n",
    "    print('ERROR', e)"
   ]
  },
  {
   "cell_type": "markdown",
   "metadata": {},
   "source": [
    "#### **Multigraphs**"
   ]
  },
  {
   "cell_type": "code",
   "execution_count": 15,
   "metadata": {},
   "outputs": [
    {
     "data": {
      "text/plain": [
       "[('A', 'B'), ('A', 'B'), ('B', 'C')]"
      ]
     },
     "execution_count": 15,
     "metadata": {},
     "output_type": "execute_result"
    }
   ],
   "source": [
    "G = nx.MultiGraph()\n",
    "G.add_edge('A', 'B', weight=6, relation='family')\n",
    "G.add_edge('A', 'B', weight=18, relation='friend')\n",
    "G.add_edge('C', 'B', weight=13, relation='friend')\n",
    "\n",
    "#list of all edges, without their attributes\n",
    "list(G.edges())"
   ]
  },
  {
   "cell_type": "code",
   "execution_count": 16,
   "metadata": {},
   "outputs": [
    {
     "data": {
      "text/plain": [
       "{0: {'weight': 6, 'relation': 'family'},\n",
       " 1: {'weight': 18, 'relation': 'friend'}}"
      ]
     },
     "execution_count": 16,
     "metadata": {},
     "output_type": "execute_result"
    }
   ],
   "source": [
    "# get all edges between two nodes\n",
    "dict(G['A']['B']) "
   ]
  },
  {
   "cell_type": "code",
   "execution_count": 17,
   "metadata": {},
   "outputs": [
    {
     "data": {
      "text/plain": [
       "[6, 18]"
      ]
     },
     "execution_count": 17,
     "metadata": {},
     "output_type": "execute_result"
    }
   ],
   "source": [
    "# get a given attribute from all edges between two nodes\n",
    "[edge['weight'] for edge in dict(G['A']['B']).values()]"
   ]
  },
  {
   "cell_type": "markdown",
   "metadata": {},
   "source": [
    "#### **Directed Multigraphs**"
   ]
  },
  {
   "cell_type": "code",
   "execution_count": 18,
   "metadata": {},
   "outputs": [
    {
     "data": {
      "text/plain": [
       "[('A', 'B'), ('A', 'B'), ('C', 'B')]"
      ]
     },
     "execution_count": 18,
     "metadata": {},
     "output_type": "execute_result"
    }
   ],
   "source": [
    "G = nx.MultiDiGraph()\n",
    "G.add_edge('A', 'B', weight=6, relation='family')\n",
    "G.add_edge('A', 'B', weight=18, relation='friend')\n",
    "G.add_edge('C', 'B', weight=13, relation='friend')\n",
    "\n",
    "#list of all edges, without their attributes\n",
    "list(G.edges())"
   ]
  },
  {
   "cell_type": "code",
   "execution_count": 19,
   "metadata": {},
   "outputs": [
    {
     "data": {
      "text/plain": [
       "{0: {'weight': 6, 'relation': 'family'},\n",
       " 1: {'weight': 18, 'relation': 'friend'}}"
      ]
     },
     "execution_count": 19,
     "metadata": {},
     "output_type": "execute_result"
    }
   ],
   "source": [
    "# get all edges between two nodes\n",
    "dict(G['A']['B']) "
   ]
  },
  {
   "cell_type": "code",
   "execution_count": 20,
   "metadata": {},
   "outputs": [
    {
     "name": "stdout",
     "output_type": "stream",
     "text": [
      "ERROR 'A'\n"
     ]
    }
   ],
   "source": [
    "# access a unexisting ede attributes\n",
    "try:\n",
    "    print(G['B']['A'])\n",
    "except Exception as e:\n",
    "    print('ERROR', e)"
   ]
  },
  {
   "cell_type": "markdown",
   "metadata": {},
   "source": [
    "## **Node Attributes**"
   ]
  },
  {
   "cell_type": "code",
   "execution_count": 21,
   "metadata": {},
   "outputs": [],
   "source": [
    "G = nx.Graph()\n",
    "G.add_edge('A', 'B', weight=6, relation='family')\n",
    "G.add_edge('B', 'C', weight=13, relation='friend')\n",
    "\n",
    "# add attribute to the node\n",
    "G.add_node('A', role='trader')\n",
    "G.add_node('B', role='trader')\n",
    "G.add_node('C', role='manager')"
   ]
  },
  {
   "cell_type": "code",
   "execution_count": 22,
   "metadata": {},
   "outputs": [
    {
     "data": {
      "text/plain": [
       "['A', 'B', 'C']"
      ]
     },
     "execution_count": 22,
     "metadata": {},
     "output_type": "execute_result"
    }
   ],
   "source": [
    "# list nodes without attributes\n",
    "list(G.nodes())"
   ]
  },
  {
   "cell_type": "code",
   "execution_count": 23,
   "metadata": {},
   "outputs": [
    {
     "data": {
      "text/plain": [
       "[('A', {'role': 'trader'}),\n",
       " ('B', {'role': 'trader'}),\n",
       " ('C', {'role': 'manager'})]"
      ]
     },
     "execution_count": 23,
     "metadata": {},
     "output_type": "execute_result"
    }
   ],
   "source": [
    "# list nodes with attributes\n",
    "list(G.nodes(data=True))"
   ]
  },
  {
   "cell_type": "code",
   "execution_count": 24,
   "metadata": {},
   "outputs": [
    {
     "data": {
      "text/plain": [
       "'trader'"
      ]
     },
     "execution_count": 24,
     "metadata": {},
     "output_type": "execute_result"
    }
   ],
   "source": [
    "# get the attribute of a given node\n",
    "G.nodes['A']['role']"
   ]
  }
 ],
 "metadata": {
  "kernelspec": {
   "display_name": "data-science",
   "language": "python",
   "name": "python3"
  },
  "language_info": {
   "codemirror_mode": {
    "name": "ipython",
    "version": 3
   },
   "file_extension": ".py",
   "mimetype": "text/x-python",
   "name": "python",
   "nbconvert_exporter": "python",
   "pygments_lexer": "ipython3",
   "version": "3.11.5"
  }
 },
 "nbformat": 4,
 "nbformat_minor": 2
}
