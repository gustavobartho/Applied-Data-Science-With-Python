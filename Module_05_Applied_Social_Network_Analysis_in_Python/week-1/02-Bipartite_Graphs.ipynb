{
 "cells": [
  {
   "cell_type": "markdown",
   "metadata": {},
   "source": [
    "# **Bipartite Graphs**\n",
    "A graph whose nodes can be split into two sets `L` and `R` and every edge connects an node in `L` with a node in `R`."
   ]
  },
  {
   "cell_type": "code",
   "execution_count": 63,
   "metadata": {},
   "outputs": [],
   "source": [
    "import networkx as nx\n",
    "from networkx.algorithms import bipartite\n",
    "\n",
    "B = nx.Graph()\n",
    "\n",
    "# creates the nodes with a given label for the group\n",
    "B.add_nodes_from(['A', 'B', 'C', 'D', 'E'], bipartite=0)\n",
    "B.add_nodes_from([1, 2, 3, 4], bipartite=1)\n",
    "\n",
    "B.add_edge('A', 1)\n",
    "\n",
    "# adds the remaining edges\n",
    "B.add_edges_from([('B', 1), ('C', 1), ('C', 3), ('D', 2), ('E', 3), ('E', 4)])"
   ]
  },
  {
   "cell_type": "code",
   "execution_count": 64,
   "metadata": {},
   "outputs": [
    {
     "data": {
      "text/plain": [
       "True"
      ]
     },
     "execution_count": 64,
     "metadata": {},
     "output_type": "execute_result"
    }
   ],
   "source": [
    "# ceck if a graph is bipartite\n",
    "bipartite.is_bipartite(B)"
   ]
  },
  {
   "cell_type": "code",
   "execution_count": 65,
   "metadata": {},
   "outputs": [
    {
     "name": "stdout",
     "output_type": "stream",
     "text": [
      "True\n",
      "False\n"
     ]
    }
   ],
   "source": [
    "# check if a set of nodes is a bipartition of a graph\n",
    "print(bipartite.is_bipartite_node_set(B, set([1, 2, 3, 4])))\n",
    "print(bipartite.is_bipartite_node_set(B, set([1, 2, 'C', 4])))"
   ]
  },
  {
   "cell_type": "markdown",
   "metadata": {},
   "source": [
    "# **Projected Graphs**\n",
    "#### **L-Bipartite graph projection**: Network of nodes in group `L`, where a pair of nodes is connected if they have a common neighbor in `R` in the bipartite graph"
   ]
  },
  {
   "cell_type": "code",
   "execution_count": 66,
   "metadata": {},
   "outputs": [
    {
     "data": {
      "text/plain": [
       "[('I', 'J', {}),\n",
       " ('I', 'E', {}),\n",
       " ('F', 'J', {}),\n",
       " ('F', 'E', {}),\n",
       " ('F', 'H', {}),\n",
       " ('B', 'G', {}),\n",
       " ('B', 'H', {}),\n",
       " ('B', 'C', {}),\n",
       " ('B', 'E', {}),\n",
       " ('B', 'D', {}),\n",
       " ('B', 'A', {}),\n",
       " ('J', 'E', {}),\n",
       " ('J', 'H', {}),\n",
       " ('G', 'C', {}),\n",
       " ('G', 'E', {}),\n",
       " ('G', 'D', {}),\n",
       " ('H', 'C', {}),\n",
       " ('H', 'E', {}),\n",
       " ('H', 'D', {}),\n",
       " ('H', 'A', {}),\n",
       " ('C', 'E', {}),\n",
       " ('C', 'D', {}),\n",
       " ('C', 'A', {}),\n",
       " ('E', 'D', {}),\n",
       " ('D', 'A', {})]"
      ]
     },
     "execution_count": 66,
     "metadata": {},
     "output_type": "execute_result"
    }
   ],
   "source": [
    "B = nx.Graph()\n",
    "B.add_edges_from([\n",
    "    ('A', 1), ('B', 1), ('C', 1), ('D', 1), ('H', 1), ('B', 2), ('C', 2), \n",
    "    ('D', 2), ('E', 2), ('G', 2), ('E', 3), ('F', 3), ('H', 3), ('J', 3), \n",
    "    ('E', 4), ('I', 4), ('J', 4)\n",
    "])\n",
    "\n",
    "X = set(['A', 'B', 'C', 'D', 'E', 'F', 'G', 'H', 'I', 'J'])\n",
    "P = bipartite.projected_graph(B, X)\n",
    "list(P.edges(data=True))"
   ]
  },
  {
   "cell_type": "markdown",
   "metadata": {},
   "source": [
    "#### **L-Bipartite weighted graph projection**: An L-Bipartite graph projection with weights on the edges that are proportional to the number of common neighbors between the nodes"
   ]
  },
  {
   "cell_type": "code",
   "execution_count": 67,
   "metadata": {},
   "outputs": [
    {
     "data": {
      "text/plain": [
       "[('I', 'J', {'weight': 1}),\n",
       " ('I', 'E', {'weight': 1}),\n",
       " ('F', 'J', {'weight': 1}),\n",
       " ('F', 'E', {'weight': 1}),\n",
       " ('F', 'H', {'weight': 1}),\n",
       " ('B', 'G', {'weight': 1}),\n",
       " ('B', 'H', {'weight': 1}),\n",
       " ('B', 'C', {'weight': 2}),\n",
       " ('B', 'E', {'weight': 1}),\n",
       " ('B', 'D', {'weight': 2}),\n",
       " ('B', 'A', {'weight': 1}),\n",
       " ('J', 'E', {'weight': 2}),\n",
       " ('J', 'H', {'weight': 1}),\n",
       " ('G', 'C', {'weight': 1}),\n",
       " ('G', 'E', {'weight': 1}),\n",
       " ('G', 'D', {'weight': 1}),\n",
       " ('H', 'C', {'weight': 1}),\n",
       " ('H', 'E', {'weight': 1}),\n",
       " ('H', 'D', {'weight': 1}),\n",
       " ('H', 'A', {'weight': 1}),\n",
       " ('C', 'E', {'weight': 1}),\n",
       " ('C', 'D', {'weight': 2}),\n",
       " ('C', 'A', {'weight': 1}),\n",
       " ('E', 'D', {'weight': 1}),\n",
       " ('D', 'A', {'weight': 1})]"
      ]
     },
     "execution_count": 67,
     "metadata": {},
     "output_type": "execute_result"
    }
   ],
   "source": [
    "X = set(['A', 'B', 'C', 'D', 'E', 'F', 'G', 'H', 'I', 'J'])\n",
    "P = bipartite.weighted_projected_graph(B, X)\n",
    "\n",
    "list(P.edges(data=True))"
   ]
  }
 ],
 "metadata": {
  "kernelspec": {
   "display_name": "data-science",
   "language": "python",
   "name": "python3"
  },
  "language_info": {
   "codemirror_mode": {
    "name": "ipython",
    "version": 3
   },
   "file_extension": ".py",
   "mimetype": "text/x-python",
   "name": "python",
   "nbconvert_exporter": "python",
   "pygments_lexer": "ipython3",
   "version": "3.11.5"
  }
 },
 "nbformat": 4,
 "nbformat_minor": 2
}
