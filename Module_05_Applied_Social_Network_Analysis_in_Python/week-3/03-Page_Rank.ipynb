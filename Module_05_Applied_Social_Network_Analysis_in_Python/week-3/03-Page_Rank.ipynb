{
 "cells": [
  {
   "cell_type": "code",
   "execution_count": 3,
   "metadata": {},
   "outputs": [],
   "source": [
    "import networkx as nx\n",
    "import operator"
   ]
  },
  {
   "cell_type": "markdown",
   "metadata": {},
   "source": [
    "# **Page Rank**\n",
    "\n",
    "Assigns a score of importance to each node. Important nodes are those with many in-links from important pages. This algorithm can be used for any type of network, bt is more useful for directed graphs.\n",
    "\n",
    "$n$ = number of nodes in the network\n",
    "\n",
    "$k$ = number of steps\n",
    "\n",
    "1. Assign all nodes a PageRank of $1\\over{n}$\n",
    "2. Perform the **Basic PageRank Rule** $k$ times\n",
    "\n",
    "**Basic PageRank Rule**: Each node gives an equal share of its current PageRank to all the nodes it links to. The new PageRank of each node is the sum of all the PageRank it received from other nodes.\n",
    "\n",
    "\n",
    "**Interpretation**: The PageRank of a node at step $k$ is the probability that a random walker lands on the node after taking $k$ steps.\n",
    "\n",
    "### **Page Rank Problem**\n",
    "\n",
    "In Graphs with circular edges ($A$ points only to $B$ and $B$ points only to $A$). The fix is to introduce a damping parameter $\\alpha$\n",
    "\n",
    "Random walk of k steps with damping parameter $\\alpha$: Start ona random node. Then: \n",
    "* With probability $\\alpha$: chose an outgoing edge at random and follow it to the next node.\n",
    "* With probability of $1 - \\alpha$: chose a node at random and go to it.\n",
    "\n",
    "Repeat $k$ times. Usually $\\alpha$ is between $0.8$ and $0.9$\n",
    "\n",
    "For the graph:\n",
    "\n",
    "<img src='../assets/directed_graph.png' width=300px>"
   ]
  },
  {
   "cell_type": "code",
   "execution_count": 4,
   "metadata": {},
   "outputs": [
    {
     "data": {
      "text/plain": [
       "[('E', 0.12279407788337132),\n",
       " ('D', 0.11060435714398248),\n",
       " ('C', 0.1033176070454691),\n",
       " ('A', 0.08702583777446707),\n",
       " ('B', 0.0861715928964544),\n",
       " ('M', 0.079558477358766),\n",
       " ('G', 0.0673122066572118),\n",
       " ('J', 0.06454583255993146),\n",
       " ('L', 0.06097461273800988),\n",
       " ('O', 0.058586304561140626),\n",
       " ('F', 0.04677040884884919),\n",
       " ('N', 0.039165637954896804),\n",
       " ('K', 0.031108071424217582),\n",
       " ('I', 0.022727057514291306),\n",
       " ('H', 0.019337917638941077)]"
      ]
     },
     "execution_count": 4,
     "metadata": {},
     "output_type": "execute_result"
    }
   ],
   "source": [
    "D = nx.read_adjlist(\n",
    "    '../assets/directed_graph.txt', \n",
    "    nodetype=str,\n",
    "    create_using=nx.DiGraph()\n",
    ")\n",
    "\n",
    "pagerank = nx.pagerank(D)\n",
    "list(sorted(pagerank.items(), key=operator.itemgetter(1), reverse=True))"
   ]
  },
  {
   "cell_type": "code",
   "execution_count": 5,
   "metadata": {},
   "outputs": [
    {
     "data": {
      "text/plain": [
       "[('E', 0.11321421490944021),\n",
       " ('D', 0.10116229095243477),\n",
       " ('C', 0.09536395696878604),\n",
       " ('A', 0.08501610646428298),\n",
       " ('M', 0.08248080082009636),\n",
       " ('B', 0.0808676033541354),\n",
       " ('G', 0.07284589253716836),\n",
       " ('J', 0.06862683666636804),\n",
       " ('L', 0.06388914910589583),\n",
       " ('O', 0.06134488265253614),\n",
       " ('F', 0.05058040840321028),\n",
       " ('N', 0.0404033404331596),\n",
       " ('K', 0.03409119197565565),\n",
       " ('I', 0.026984105237620605),\n",
       " ('H', 0.023129219519209793)]"
      ]
     },
     "execution_count": 5,
     "metadata": {},
     "output_type": "execute_result"
    }
   ],
   "source": [
    "# With damping\n",
    "\n",
    "pagerank = nx.pagerank(D, alpha=0.8)\n",
    "list(sorted(pagerank.items(), key=operator.itemgetter(1), reverse=True))"
   ]
  }
 ],
 "metadata": {
  "kernelspec": {
   "display_name": "data-science",
   "language": "python",
   "name": "python3"
  },
  "language_info": {
   "codemirror_mode": {
    "name": "ipython",
    "version": 3
   },
   "file_extension": ".py",
   "mimetype": "text/x-python",
   "name": "python",
   "nbconvert_exporter": "python",
   "pygments_lexer": "ipython3",
   "version": "3.11.5"
  }
 },
 "nbformat": 4,
 "nbformat_minor": 2
}
