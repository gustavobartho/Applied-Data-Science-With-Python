{
 "cells": [
  {
   "cell_type": "code",
   "execution_count": 77,
   "metadata": {},
   "outputs": [],
   "source": [
    "import networkx as nx"
   ]
  },
  {
   "cell_type": "markdown",
   "metadata": {},
   "source": [
    "# **Node Importance**\n",
    "There are different ways of thinking about \"importance\":\n",
    "\n",
    "* High degree -> number of connections\n",
    "* High average proximity to other nodes\n",
    "* High fraction of shortest paths that pass trough node\n",
    "\n",
    "**Centrality Measures** identify the most important nodes in a network:\n",
    "\n",
    "* Influential nodes in a social network.\n",
    "* Nodes that disseminate information to many nodes or prevent epidemics\n",
    "* Hubs a transportation network\n",
    "* Important pages on Web\n",
    "* Nodes that prevent the network from braking up\n",
    "\n",
    "## **Degree Centrality**\n",
    "**Assumption**: Important nodes have many connections -> number of connections.\n",
    "\n",
    "#### **Undirected Networks**\n",
    "Use degree\n",
    "\n",
    "$C_{deg}(v) = {{d_v}\\over{|N|-1}}$\n",
    "\n",
    "where $N$ is the set of nodes in the network and $d_v$ is the degree of node $v$"
   ]
  },
  {
   "cell_type": "code",
   "execution_count": 78,
   "metadata": {},
   "outputs": [
    {
     "data": {
      "text/plain": [
       "(34, 0.5151515151515151)"
      ]
     },
     "execution_count": 78,
     "metadata": {},
     "output_type": "execute_result"
    }
   ],
   "source": [
    "G = nx.karate_club_graph()\n",
    "G = nx.convert_node_labels_to_integers(G, first_label=1)\n",
    "degCent = nx.degree_centrality(G)\n",
    "\n",
    "# Highest degree centrality node and value\n",
    "max_node = max(degCent, key=degCent.get)\n",
    "max_node, degCent[max_node]"
   ]
  },
  {
   "cell_type": "markdown",
   "metadata": {},
   "source": [
    "#### **Directed Networks** \n",
    "\n",
    "<img src='../assets/directed_graph.png' width=300px>\n",
    "\n",
    "##### **In-degree centrality**\n",
    "$C_{deg}(v) = {{d_{v}^{in}}\\over{|N|-1}}$\n",
    "\n",
    "where $N$ is the set of nodes in the network and $d_{v}^{in}$ is the in -degree of node $v$"
   ]
  },
  {
   "cell_type": "code",
   "execution_count": 79,
   "metadata": {},
   "outputs": [
    {
     "data": {
      "text/plain": [
       "('E', 0.21428571428571427)"
      ]
     },
     "execution_count": 79,
     "metadata": {},
     "output_type": "execute_result"
    }
   ],
   "source": [
    "D = nx.read_adjlist(\n",
    "    '../assets/directed_graph.txt', \n",
    "    nodetype=str,\n",
    "    create_using=nx.DiGraph()\n",
    ")\n",
    "\n",
    "# Highest in-degree centrality node and value\n",
    "inDegCent = nx.in_degree_centrality(D)\n",
    "max_node = max(inDegCent, key=inDegCent.get)\n",
    "max_node, inDegCent[max_node]"
   ]
  },
  {
   "cell_type": "markdown",
   "metadata": {},
   "source": [
    "##### **Out-degree centrality**\n",
    "\n",
    "$C_{deg}(v) = {{d_{v}^{out}}\\over{|N|-1}}$\n",
    "\n",
    "where $N$ is the set of nodes in the network and $d_{v}^{in}$ is the out-degree of node $v$"
   ]
  },
  {
   "cell_type": "code",
   "execution_count": 80,
   "metadata": {},
   "outputs": [
    {
     "data": {
      "text/plain": [
       "('I', 0.2857142857142857)"
      ]
     },
     "execution_count": 80,
     "metadata": {},
     "output_type": "execute_result"
    }
   ],
   "source": [
    "# Highest out-degree centrality node and value\n",
    "outDegCent = nx.out_degree_centrality(D)\n",
    "max_node = max(outDegCent, key=outDegCent.get)\n",
    "max_node, outDegCent[max_node]"
   ]
  },
  {
   "cell_type": "markdown",
   "metadata": {},
   "source": [
    "## **Closeness Centrality**\n",
    "**Assumption**: Important nodes are close to other nodes.\n",
    "\n",
    "#### **Undirected Networks**\n",
    "\n",
    "${C_{close}(v)} = {{|N|-1}\\over{\\sum_{u \\in N\\\\\\{v\\}}{d(u, v)}}}$\n",
    "\n",
    "where $N$ is the set of nodes in the network and $d(u, v)$ is the length of shortest path from $v$ to $u$"
   ]
  },
  {
   "cell_type": "code",
   "execution_count": 81,
   "metadata": {},
   "outputs": [
    {
     "data": {
      "text/plain": [
       "(1, 0.5689655172413793)"
      ]
     },
     "execution_count": 81,
     "metadata": {},
     "output_type": "execute_result"
    }
   ],
   "source": [
    "closeCent = nx.closeness_centrality(G)\n",
    "\n",
    "# Highest closeness centrality node and value\n",
    "max_node = max(closeCent, key=closeCent.get)\n",
    "max_node, closeCent[max_node]"
   ]
  },
  {
   "cell_type": "code",
   "execution_count": 82,
   "metadata": {},
   "outputs": [
    {
     "data": {
      "text/plain": [
       "0.5689655172413793"
      ]
     },
     "execution_count": 82,
     "metadata": {},
     "output_type": "execute_result"
    }
   ],
   "source": [
    "(len(G.nodes()) - 1)/sum(nx.shortest_path_length(G, max_node).values())"
   ]
  },
  {
   "cell_type": "markdown",
   "metadata": {},
   "source": [
    "#### **Directed Networks**\n",
    "How to measure the closeness centrality of a node when it cannot reach all other nodes?\n",
    "<img src='../assets/directed_graph.png' width=300px>\n",
    "\n",
    "##### 1 - **Consider only nodes that the node $L$ can reach**\n",
    "\n",
    "${C_{close}(L)} = {{R(L)}\\over{\\sum_{u \\in R(L)}{d(L, u)}}}$\n",
    "\n",
    "where $R(L)$ is the set of nodes $L$ can reach\n",
    "\n",
    "$C_{close}(L) = {1\\over1} = 1$, since $L$ can only reach $M$ and it has a shortest path of length 1\n",
    "\n",
    "##### 2 - **Consider only nodes that the node $L$ can reach and normalize by the fraction of nodes $L$ can reach**\n",
    "\n",
    "${C_{close}(L)} = [{{|R(L)|}\\over{|N-1|}}]{{R(L)}\\over{\\sum_{u \\in R(L)}{d(L, u)}}}$\n",
    "\n",
    "where $R(L)$ is the set of nodes $L$ can reach\n",
    "\n",
    "$C_{close}(L) = [{1\\over14}]{1\\over1} = 0.071$"
   ]
  },
  {
   "cell_type": "code",
   "execution_count": 89,
   "metadata": {},
   "outputs": [
    {
     "data": {
      "text/plain": [
       "('L', 0.32625482625482627)"
      ]
     },
     "execution_count": 89,
     "metadata": {},
     "output_type": "execute_result"
    }
   ],
   "source": [
    "closeCent = nx.closeness_centrality(D)\n",
    "\n",
    "# Highest closeness centrality node and value\n",
    "max_node = max(closeCent, key=closeCent.get)\n",
    "max_node, closeCent[max_node]"
   ]
  }
 ],
 "metadata": {
  "kernelspec": {
   "display_name": "data-science",
   "language": "python",
   "name": "python3"
  },
  "language_info": {
   "codemirror_mode": {
    "name": "ipython",
    "version": 3
   },
   "file_extension": ".py",
   "mimetype": "text/x-python",
   "name": "python",
   "nbconvert_exporter": "python",
   "pygments_lexer": "ipython3",
   "version": "3.11.5"
  }
 },
 "nbformat": 4,
 "nbformat_minor": 2
}
