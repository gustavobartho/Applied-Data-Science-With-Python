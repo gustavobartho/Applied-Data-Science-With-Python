{
 "cells": [
  {
   "cell_type": "code",
   "execution_count": 1,
   "metadata": {},
   "outputs": [],
   "source": [
    "import networkx as nx\n",
    "import operator"
   ]
  },
  {
   "cell_type": "markdown",
   "metadata": {},
   "source": [
    "# **Betweenness  Centrality**\n",
    "\n",
    "**Assumption**: important nodes connect other nodes.\n",
    "\n",
    "**Recall**: the distance between two nodes is the length of the shortest path between them.\n",
    "\n",
    "### **Centrality**\n",
    "\n",
    "${C_{btw}(v) = \\sum_{s,t \\in N}{\\sigma_{s, t}(v) \\over{\\sigma_{s,t}}}}$\n",
    "\n",
    "where:\n",
    "* $\\sigma_{s, t}$ is the number of shortest paths between nodes $s$ and $t$.\n",
    "* $\\sigma_{s, t}$ is the number of shortest paths between nodes $s$ and $t$ that pass through node $v$.\n",
    "\n",
    "when computing betweenness centrality, only consider nodes $s, t$ such that there is at least one path between them.\n",
    "\n",
    "### **Endpoints**\n",
    "\n",
    "When computing the centrality of a given node $v$, ps possible either include or exclude node $v$ as node $s$ and $t$ in the computation of $C_{btw}(v)$. The paths where $v$ is the first or last node are not taken into count.\n",
    "\n",
    "### **Normalization**\n",
    "\n",
    "Betweenness centrality values will be larger in graphs with many nodes. To control for this, we divide centrality values by the number of pairs of nodes in the graph (excluding $v$)\n",
    "\n",
    "${1\\over{2} }(|N| - 1)(|N| - 2)$ in undirected graphs\n",
    "\n",
    "$(|N| - 1)(|N| - 2)$ in directed graphs\n"
   ]
  },
  {
   "cell_type": "markdown",
   "metadata": {},
   "source": [
    "for the graph $G$:\n",
    "\n",
    "<img src=\"../assets/undirected_graph.png\" width=300px>\n",
    "\n",
    "the centralities are:"
   ]
  },
  {
   "cell_type": "code",
   "execution_count": 2,
   "metadata": {},
   "outputs": [
    {
     "data": {
      "text/plain": [
       "[('A', 0.4820512820512821),\n",
       " ('G', 0.2721611721611722),\n",
       " ('N', 0.23479853479853482),\n",
       " ('O', 0.21025641025641026),\n",
       " ('J', 0.19926739926739928),\n",
       " ('L', 0.1347985347985348),\n",
       " ('B', 0.04029304029304028),\n",
       " ('C', 0.04029304029304028),\n",
       " ('E', 0.04029304029304028),\n",
       " ('I', 0.03003663003663004),\n",
       " ('K', 0.03003663003663004),\n",
       " ('F', 0.02197802197802198),\n",
       " ('H', 0.02197802197802198),\n",
       " ('D', 0.0),\n",
       " ('M', 0.0)]"
      ]
     },
     "execution_count": 2,
     "metadata": {},
     "output_type": "execute_result"
    }
   ],
   "source": [
    "G = nx.read_adjlist(\n",
    "    '../assets/undirected_graph.txt', \n",
    "    nodetype=str,\n",
    "    create_using=nx.Graph()\n",
    ")\n",
    "\n",
    "btwnCent = nx.betweenness_centrality(G, normalized=True, endpoints=False)\n",
    "list(sorted(btwnCent.items(), key=operator.itemgetter(1), reverse=True))"
   ]
  },
  {
   "cell_type": "markdown",
   "metadata": {},
   "source": [
    "### **Complexity**\n",
    "\n",
    "Computing betweenness centrality of all nodes can be very computationally expensive. Depending on the algorithm, this computation can take up to $O(|N|^3)$ time.\n",
    "\n",
    "Rather than computing betweenness centrality based on all pairs of nodes $s, t$, we can approximate it based on a sample of nodes."
   ]
  },
  {
   "cell_type": "code",
   "execution_count": 3,
   "metadata": {},
   "outputs": [
    {
     "data": {
      "text/plain": [
       "[('A', 0.4892857142857143),\n",
       " ('G', 0.24395604395604403),\n",
       " ('N', 0.2255494505494506),\n",
       " ('J', 0.20851648351648355),\n",
       " ('O', 0.15769230769230771),\n",
       " ('L', 0.15604395604395604),\n",
       " ('B', 0.04945054945054945),\n",
       " ('C', 0.04945054945054945),\n",
       " ('E', 0.04945054945054945),\n",
       " ('K', 0.03763736263736264),\n",
       " ('F', 0.03021978021978023),\n",
       " ('H', 0.03021978021978023),\n",
       " ('I', 0.01153846153846154),\n",
       " ('D', 0.0),\n",
       " ('M', 0.0)]"
      ]
     },
     "execution_count": 3,
     "metadata": {},
     "output_type": "execute_result"
    }
   ],
   "source": [
    "btwnCent_approx = nx.betweenness_centrality(G, normalized=True, endpoints=False, k=10)\n",
    "list(sorted(btwnCent_approx.items(), key=operator.itemgetter(1), reverse=True))"
   ]
  },
  {
   "cell_type": "markdown",
   "metadata": {},
   "source": [
    "### **Subsets**\n",
    "\n",
    "Find the centrality between two groups of nodes"
   ]
  },
  {
   "cell_type": "code",
   "execution_count": 4,
   "metadata": {},
   "outputs": [
    {
     "data": {
      "text/plain": [
       "[('A', 0.049450549450549455),\n",
       " ('N', 0.049450549450549455),\n",
       " ('O', 0.008241758241758242),\n",
       " ('L', 0.008241758241758242),\n",
       " ('B', 0.005494505494505495),\n",
       " ('C', 0.005494505494505495),\n",
       " ('E', 0.005494505494505495),\n",
       " ('G', 0.0),\n",
       " ('D', 0.0),\n",
       " ('F', 0.0),\n",
       " ('I', 0.0),\n",
       " ('J', 0.0),\n",
       " ('H', 0.0),\n",
       " ('K', 0.0),\n",
       " ('M', 0.0)]"
      ]
     },
     "execution_count": 4,
     "metadata": {},
     "output_type": "execute_result"
    }
   ],
   "source": [
    "btwnCent_subset = nx.betweenness_centrality_subset(G, ['C', 'D', 'E'], ['L', 'K', 'O'], normalized=True)\n",
    "list(sorted(btwnCent_subset.items(), key=operator.itemgetter(1), reverse=True))"
   ]
  },
  {
   "cell_type": "markdown",
   "metadata": {},
   "source": [
    "### **Edges**\n",
    "\n",
    "Use betweenness centrality to find important edges .\n",
    "\n",
    "${C_{btw}(e) = \\sum_{s,t \\in N}{\\sigma_{s, t}(e) \\over{\\sigma_{s,t}}}}$\n",
    "\n",
    "where:\n",
    "* $\\sigma_{s, t}$ is the number of shortest paths between node $s$ and $t$.\n",
    "* $\\sigma_{s, t}(e)$ is the number of shortest paths between nodes $s$ and $t$ that pass trough edge $e$."
   ]
  },
  {
   "cell_type": "code",
   "execution_count": 5,
   "metadata": {},
   "outputs": [
    {
     "data": {
      "text/plain": [
       "[(('A', 'N'), 0.2749206349206349),\n",
       " (('A', 'G'), 0.2749206349206349),\n",
       " (('J', 'O'), 0.2012698412698413),\n",
       " (('N', 'L'), 0.15587301587301589),\n",
       " (('A', 'B'), 0.13968253968253966),\n",
       " (('A', 'C'), 0.13968253968253966),\n",
       " (('A', 'E'), 0.13968253968253966),\n",
       " (('G', 'J'), 0.1276190476190476),\n",
       " (('G', 'H'), 0.11682539682539685),\n",
       " (('O', 'K'), 0.11174603174603176),\n",
       " (('N', 'O'), 0.10952380952380954),\n",
       " (('L', 'M'), 0.09777777777777778),\n",
       " (('I', 'J'), 0.09746031746031746),\n",
       " (('G', 'F'), 0.08571428571428572),\n",
       " (('O', 'L'), 0.07523809523809524),\n",
       " (('I', 'H'), 0.05460317460317462),\n",
       " (('F', 'J'), 0.05238095238095239),\n",
       " (('B', 'D'), 0.04444444444444445),\n",
       " (('C', 'D'), 0.04444444444444445),\n",
       " (('E', 'D'), 0.04444444444444445),\n",
       " (('K', 'L'), 0.0380952380952381),\n",
       " (('K', 'M'), 0.03555555555555556),\n",
       " (('F', 'I'), 0.03333333333333334),\n",
       " (('B', 'C'), 0.009523809523809525),\n",
       " (('B', 'E'), 0.009523809523809525),\n",
       " (('C', 'E'), 0.009523809523809525)]"
      ]
     },
     "execution_count": 5,
     "metadata": {},
     "output_type": "execute_result"
    }
   ],
   "source": [
    "btwnCent_edges = nx.edge_betweenness_centrality(G, normalized=True)\n",
    "list(sorted(btwnCent_edges.items(), key=operator.itemgetter(1), reverse=True))"
   ]
  },
  {
   "cell_type": "markdown",
   "metadata": {},
   "source": [
    "### **Subsets**\n",
    "\n",
    "Find the centrality between edges from two groups of nodes"
   ]
  },
  {
   "cell_type": "code",
   "execution_count": 6,
   "metadata": {},
   "outputs": [
    {
     "data": {
      "text/plain": [
       "[(('A', 'N'), 0.04285714285714286),\n",
       " (('N', 'L'), 0.02142857142857143),\n",
       " (('N', 'O'), 0.02142857142857143),\n",
       " (('A', 'C'), 0.01904761904761905),\n",
       " (('A', 'E'), 0.01904761904761905),\n",
       " (('O', 'K'), 0.0071428571428571435),\n",
       " (('K', 'L'), 0.0071428571428571435),\n",
       " (('A', 'B'), 0.004761904761904762),\n",
       " (('B', 'D'), 0.004761904761904762),\n",
       " (('C', 'D'), 0.004761904761904762),\n",
       " (('E', 'D'), 0.004761904761904762),\n",
       " (('A', 'G'), 0.0),\n",
       " (('B', 'C'), 0.0),\n",
       " (('B', 'E'), 0.0),\n",
       " (('C', 'E'), 0.0),\n",
       " (('G', 'F'), 0.0),\n",
       " (('G', 'H'), 0.0),\n",
       " (('G', 'J'), 0.0),\n",
       " (('F', 'I'), 0.0),\n",
       " (('F', 'J'), 0.0),\n",
       " (('I', 'H'), 0.0),\n",
       " (('I', 'J'), 0.0),\n",
       " (('J', 'O'), 0.0),\n",
       " (('O', 'L'), 0.0),\n",
       " (('K', 'M'), 0.0),\n",
       " (('L', 'M'), 0.0)]"
      ]
     },
     "execution_count": 6,
     "metadata": {},
     "output_type": "execute_result"
    }
   ],
   "source": [
    "btwnCent_subset = nx.edge_betweenness_centrality_subset(G, ['C', 'D', 'E'], ['L', 'K', 'O'], normalized=True)\n",
    "list(sorted(btwnCent_subset.items(), key=operator.itemgetter(1), reverse=True))"
   ]
  }
 ],
 "metadata": {
  "kernelspec": {
   "display_name": "data-science",
   "language": "python",
   "name": "python3"
  },
  "language_info": {
   "codemirror_mode": {
    "name": "ipython",
    "version": 3
   },
   "file_extension": ".py",
   "mimetype": "text/x-python",
   "name": "python",
   "nbconvert_exporter": "python",
   "pygments_lexer": "ipython3",
   "version": "3.11.5"
  }
 },
 "nbformat": 4,
 "nbformat_minor": 2
}
