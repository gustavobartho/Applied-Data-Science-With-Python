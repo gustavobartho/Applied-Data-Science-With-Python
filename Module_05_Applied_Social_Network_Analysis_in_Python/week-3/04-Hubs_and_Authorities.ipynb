{
 "cells": [
  {
   "cell_type": "code",
   "execution_count": 1,
   "metadata": {},
   "outputs": [],
   "source": [
    "import networkx as nx\n",
    "import operator"
   ]
  },
  {
   "cell_type": "markdown",
   "metadata": {},
   "source": [
    "# **Hubs and Authorities**\n",
    "\n",
    "Given a query to a search engine:\n",
    "* **Root**: set of highly relevant web pages - potential *authorities*.\n",
    "* Find all pages that link to a page in the root - potential *hubs*.\n",
    "* **Base**: root nodes and any node that links to a node in root set.\n",
    "* Consider all edges connecting nodes in the base set.\n",
    "\n",
    "### **HITS Algorithm**\n",
    "Computing $k$ iterations of the HITS algorithm to assign an *authority* score and *hub* score to each node.\n",
    "\n",
    "1. Assign each node an authority and hub score of 1.\n",
    "2. Apply the **Authority Update Rule**: each node's **authority** score is the sum of **hub** scores of each node that **points to it**.\n",
    "3. Apply the **Hub Update Rule**: each node's **hub** score is the sum of **authority** scores of each node that **it points to**.\n",
    "4. Normalize authority and hub scores.\n",
    "5. Repeat $k$ times.\n",
    "\n",
    "For the graph:\n",
    "\n",
    "<img src='../assets/directed_graph.png' width=300px>"
   ]
  },
  {
   "cell_type": "code",
   "execution_count": 8,
   "metadata": {},
   "outputs": [
    {
     "name": "stdout",
     "output_type": "stream",
     "text": [
      "hub scores\n"
     ]
    },
    {
     "data": {
      "text/plain": [
       "[('I', 0.26210285382793175),\n",
       " ('O', 0.1749665618222365),\n",
       " ('G', 0.11661143582632146),\n",
       " ('J', 0.08560552875802654),\n",
       " ('H', 0.08237928525220428),\n",
       " ('N', 0.08163932406273886),\n",
       " ('F', 0.06868460039960149),\n",
       " ('K', 0.06724410846654054),\n",
       " ('C', 0.031174510874723352),\n",
       " ('L', 0.013407472246848108),\n",
       " ('E', 0.00856732795473908),\n",
       " ('B', 0.003226911703833137),\n",
       " ('A', 0.0023940305291031243),\n",
       " ('D', 0.001996048275151718),\n",
       " ('M', -0.0)]"
      ]
     },
     "metadata": {},
     "output_type": "display_data"
    },
    {
     "name": "stdout",
     "output_type": "stream",
     "text": [
      "\n",
      "authority scores\n"
     ]
    },
    {
     "data": {
      "text/plain": [
       "[('J', 0.21137098647248379),\n",
       " ('G', 0.1577288813015056),\n",
       " ('F', 0.13273976088563819),\n",
       " ('L', 0.12363167805541275),\n",
       " ('H', 0.1000593367517164),\n",
       " ('K', 0.06679453456525274),\n",
       " ('O', 0.06384672583294418),\n",
       " ('A', 0.05641817169163232),\n",
       " ('I', 0.0314487863219809),\n",
       " ('M', 0.03078922475013199),\n",
       " ('D', 0.015171685376536124),\n",
       " ('C', 0.004502521740958466),\n",
       " ('E', 0.002907831819274072),\n",
       " ('B', 0.0016759389187341385),\n",
       " ('N', 0.0009139355157982575)]"
      ]
     },
     "metadata": {},
     "output_type": "display_data"
    }
   ],
   "source": [
    "D = nx.read_adjlist(\n",
    "    '../assets/directed_graph.txt', \n",
    "    nodetype=str,\n",
    "    create_using=nx.DiGraph()\n",
    ")\n",
    "\n",
    "hubScore, authorityScore = nx.hits(D)\n",
    "print('hub scores')\n",
    "display(list(sorted(hubScore.items(), key=operator.itemgetter(1), reverse=True)))\n",
    "\n",
    "print('\\nauthority scores')\n",
    "display(list(sorted(authorityScore.items(), key=operator.itemgetter(1), reverse=True)))"
   ]
  }
 ],
 "metadata": {
  "kernelspec": {
   "display_name": "data-science",
   "language": "python",
   "name": "python3"
  },
  "language_info": {
   "codemirror_mode": {
    "name": "ipython",
    "version": 3
   },
   "file_extension": ".py",
   "mimetype": "text/x-python",
   "name": "python",
   "nbconvert_exporter": "python",
   "pygments_lexer": "ipython3",
   "version": "3.11.5"
  }
 },
 "nbformat": 4,
 "nbformat_minor": 2
}
