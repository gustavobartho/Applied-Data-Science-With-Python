{
 "cells": [
  {
   "cell_type": "markdown",
   "metadata": {},
   "source": [
    "# Applications of Semantic Similarity\n",
    "* Grouping similar words into semantic concepts.\n",
    "* As a building block in natural language understanding tasks.\n",
    "    * Textual entailment\n",
    "    * Paraphrasing\n",
    "\n",
    "### **WordNet**\n",
    "* Semantic dictionary of (mostly) English words, interlinked by semantic relations.\n",
    "* Includes rich linguistic information\n",
    "    * part of speech, word senses, synonyms, hypernyms/hyponyms, meronyms, derivationally related forms, ...\n",
    "* Machine-readable, freely available\n",
    "\n",
    "#### **Semantic similarity using WordNet**\n",
    "* WordNet organizes information in a hierarchy\n",
    "* Many similarities measures use the hierarchy in some way\n",
    "\n",
    "<img src=\"./assets/semantic_sim.png\" alt=\"\" />\n",
    "\n",
    "* How to get the similarity between:\n",
    "    * deer and giraffe\n",
    "    * deer and elk\n",
    "    * deer and horse\n",
    "\n",
    "##### **Path Similarity**\n",
    "* Find the shortest path between the two concepts\n",
    "* Similarity measure inversely related to path distance\n",
    "* deer and giraffe - distance = 2\n",
    "* deer and elk - distance = 1\n",
    "* deer and horse - distance = 6\n",
    "\n",
    "##### **Lowest common subsumer (LCS)**\n",
    "* Find the closest ancestor to both concepts\n",
    "* LCS(deer and giraffe) = ruminant\n",
    "* LCS(deer and elk) = deer\n",
    "* LCS(deer and horse) = ungulate\n",
    "\n",
    "##### L**in Similarity**\n",
    "* Similarity measure based on the information contained in the LCS of the two concepts\n",
    "    * $LinSim(u, v) = {{2 \\times \\log P (LCS(u, v))}\\over{\\log P(u) + \\log P(v)}}$\n",
    "* $P(u)$ is given by the information content learnt over a large corpus"
   ]
  },
  {
   "cell_type": "code",
   "execution_count": 8,
   "metadata": {},
   "outputs": [
    {
     "name": "stdout",
     "output_type": "stream",
     "text": [
      "Path Similarity:\n",
      "* deer and giraffe - 0.3333333333333333\n",
      "* deer and elk - 0.5\n",
      "* deer and horse - 0.14285714285714285\n"
     ]
    }
   ],
   "source": [
    "from nltk.corpus import wordnet as wn \n",
    "\n",
    "# the word (deer) given by the noun meaning (n) and the first meaning of that (01)\n",
    "deer = wn.synset('deer.n.01')\n",
    "elk = wn.synset('elk.n.01')\n",
    "giraffe = wn.synset('giraffe.n.01')\n",
    "horse = wn.synset('horse.n.01')\n",
    "\n",
    "print('Path Similarity:')\n",
    "print('* deer and giraffe - ' + str(deer.path_similarity(giraffe)))\n",
    "print('* deer and elk - ' + str(deer.path_similarity(elk)))\n",
    "print('* deer and horse - ' + str(deer.path_similarity(horse)))"
   ]
  },
  {
   "cell_type": "code",
   "execution_count": 13,
   "metadata": {},
   "outputs": [
    {
     "name": "stderr",
     "output_type": "stream",
     "text": [
      "[nltk_data] Downloading package wordnet_ic to /home/user/nltk_data...\n",
      "[nltk_data]   Package wordnet_ic is already up-to-date!\n"
     ]
    },
    {
     "name": "stdout",
     "output_type": "stream",
     "text": [
      "Lin Similarity:\n",
      "* deer and giraffe - 1.5837629004603727e-299\n",
      "* deer and elk - 0.8623778273893673\n",
      "* deer and horse - 0.7726998936065773\n"
     ]
    }
   ],
   "source": [
    "import nltk\n",
    "nltk.download('wordnet_ic')\n",
    "\n",
    "from nltk.corpus import wordnet_ic\n",
    "brown_ic = wordnet_ic.ic('ic-brown.dat')\n",
    "\n",
    "print('Lin Similarity:')\n",
    "print('* deer and giraffe - ' + str(deer.lin_similarity(giraffe, brown_ic)))\n",
    "print('* deer and elk - ' + str(deer.lin_similarity(elk, brown_ic)))\n",
    "print('* deer and horse - ' + str(deer.lin_similarity(horse, brown_ic)))"
   ]
  },
  {
   "cell_type": "markdown",
   "metadata": {},
   "source": [
    "##### **Collocations and Distributional similarity**\n",
    "* Two words that frequently appears in similar contexts are more likely to be semantically related.\n",
    "* **Context**:\n",
    "    * Words before, after, within a small window.\n",
    "    * Parts of speech of words before, after, in a small window.\n",
    "    * Specific syntactic relation to the target word.\n",
    "    * Words in the same sentence, same document, ...\n",
    "* Strength of association between words\n",
    "    * How frequent are these? - Not similar if two words don't occur together often\n",
    "    * How frequent are individual words? - 'the' is very frequent, so high chances it co-occurs often with every word\n",
    "    * Pointwise Mutual Information - $PMI(w, c) = {\\log({{P(w, c)}\\over{P(w) \\times P(c)}})}$"
   ]
  },
  {
   "cell_type": "code",
   "execution_count": 18,
   "metadata": {},
   "outputs": [
    {
     "data": {
      "text/plain": [
       "[('m', 'p'),\n",
       " ('T', 'h'),\n",
       " ('b', 'r'),\n",
       " ('c', 'k'),\n",
       " ('i', 'c'),\n",
       " ('j', 'u'),\n",
       " ('q', 'u'),\n",
       " ('t', 'h'),\n",
       " ('u', 'i'),\n",
       " ('u', 'm')]"
      ]
     },
     "execution_count": 18,
     "metadata": {},
     "output_type": "execute_result"
    }
   ],
   "source": [
    "import nltk\n",
    "from nltk.collocations import *\n",
    "bigram_measures = nltk.collocations.BigramAssocMeasures()\n",
    "\n",
    "finder = BigramCollocationFinder.from_words('The quick brown fox jumped over the yellow fence')\n",
    "finder.nbest(bigram_measures.pmi, 10)"
   ]
  },
  {
   "cell_type": "markdown",
   "metadata": {},
   "source": [
    "#### **Important Concepts**\n",
    "* Finding similarity between words and text is non-trivial\n",
    "* WordNet is a useful resource for semantic relationship between words\n",
    "* Many similarity functions exist\n",
    "* NLTK is a useful package for many such tasks"
   ]
  }
 ],
 "metadata": {
  "kernelspec": {
   "display_name": "data-science",
   "language": "python",
   "name": "python3"
  },
  "language_info": {
   "codemirror_mode": {
    "name": "ipython",
    "version": 3
   },
   "file_extension": ".py",
   "mimetype": "text/x-python",
   "name": "python",
   "nbconvert_exporter": "python",
   "pygments_lexer": "ipython3",
   "version": "3.11.5"
  }
 },
 "nbformat": 4,
 "nbformat_minor": 2
}
