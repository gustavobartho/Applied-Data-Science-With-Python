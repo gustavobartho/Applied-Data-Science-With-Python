{
 "cells": [
  {
   "cell_type": "markdown",
   "metadata": {},
   "source": [
    "# **Information Extraction**\n",
    "\n",
    "* **Goal**: Identify and extract fields of interest from free text.\n",
    "\n",
    "### **Fields of Interest**\n",
    "* **Named entities**\n",
    "    * **[NEWS]** - People, Places, Dates, ...\n",
    "    * **[FINANCE]** - Money, Companies, ...\n",
    "    * **[MEDICINE]** - Diseases, Drugs, Procedures, ...\n",
    "* **Relations** - What happened to who, when, where, ...\n",
    "\n",
    "#### **Named Entity Recognition**\n",
    "* **Names entities**: Noun phrases that are of specific type and refer to specific individuals, places, organizations, ... \n",
    "* **Named Entity Recognition**: Technique(s) to identify all mentions of pre-defined named entities in text.\n",
    "    * Identify the mention / phrase: *Boundary detection*\n",
    "    * Identify the type: *Tagging / classification*\n",
    "\n",
    "##### **Approaches to identify named entities**\n",
    "* Depends on the kinds of entities that need to be identified\n",
    "* For well-formatted fields like date, phone numbers: Regular Expressions\n",
    "* For other fields: Typically a machine learning approach\n",
    "* **Person, Organization, Location/GPE**\n",
    "    * Standard NER task in NLP research community\n",
    "    * Typically a four class model:\n",
    "        * PER\n",
    "        * ORG\n",
    "        * LOC / GPE\n",
    "        * Other / Outside (any other class)\n",
    "\n",
    "#### **Relation Extraction**\n",
    "* Identify relationships between named entities\n",
    "\n",
    "#### **Co-reference resolution**\n",
    "* Disambiguate mentions and group mentions together\n",
    "\n",
    "### **Question Answering**\n",
    "* Given a question, find the most appropriate answer from the text\n",
    "* Builds on **named entities recognition**, **relation extraction** and **co-reference resolution** tasks \n",
    "\n",
    "### **Important Concepts**\n",
    "* Information Extraction is important for natural language understanding and making sense of textual data.\n",
    "* Named Entities Recognition is a key building block to address many advanced NLP tasks.\n",
    "* Named Entity Recognition systems extensively deploy supervised machine learning and text mining techniques discussed in this course."
   ]
  },
  {
   "cell_type": "markdown",
   "metadata": {},
   "source": [
    "### Additional Resources & Readings\n",
    "\n",
    "The primary reference for the Latent Dirichlet Allocation (LDA) is the following. The first five pages (Pg nos. 993-997) describes the model and the plate notation.David M. Blei, Andrew Y. Ng, Michael I. Jordan; Latent Dirichlet Allocation. Journal of Machine Learning Research (JMLR); 3(Jan):993-1022, 2003.http://www.jmlr.org/papers/volume3/blei03a/blei03a.pdf\n",
    "\n",
    "Also see the following Wikipedia pages on:\n",
    "\n",
    "* Latent Dirichlet Allocation: https://en.wikipedia.org/wiki/Latent_Dirichlet_allocation\n",
    "* Description of the plate notation: https://en.wikipedia.org/wiki/Plate_notation\n",
    "\n",
    "WordNet based similarity measures in NLTK: http://www.nltk.org/howto/wordnet.html\n"
   ]
  }
 ],
 "metadata": {
  "kernelspec": {
   "display_name": "data-science",
   "language": "python",
   "name": "python3"
  },
  "language_info": {
   "codemirror_mode": {
    "name": "ipython",
    "version": 3
   },
   "file_extension": ".py",
   "mimetype": "text/x-python",
   "name": "python",
   "nbconvert_exporter": "python",
   "pygments_lexer": "ipython3",
   "version": "3.11.5"
  }
 },
 "nbformat": 4,
 "nbformat_minor": 2
}
