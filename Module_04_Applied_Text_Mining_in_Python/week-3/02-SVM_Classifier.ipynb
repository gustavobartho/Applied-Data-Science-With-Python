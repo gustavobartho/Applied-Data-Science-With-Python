{
 "cells": [
  {
   "cell_type": "markdown",
   "metadata": {},
   "source": [
    "## **Support Vector Machines**\n",
    "\n",
    "#### **Decision Boundaries**\n",
    "* Classification function is represented by decision surfaces\n",
    "* Defines the region a data point must be in to be classified as a given class\n",
    "* **Data overfitting**: Decision boundary learned over training data doesn't generalize to test data\n",
    "* **Linear Boundaries**\n",
    "    * Line that separates classes\n",
    "    * Easy to find\n",
    "    * Easy to evaluate\n",
    "    * More generalizable\n",
    "\n",
    "SVMs are **linear classifiers** that find a hyperplane to separate **two classes** of data: positive and negative\n",
    "\n",
    "Given training data $(x_1, y_1), (x_2, y_2), ...$ where $x_i = (x_1, x_2, ..., x_n)$ is the instance vector and $y_i$ is one of $\\{-1, +1\\}$. SVM finds a linear function $w$ (weight vector):\n",
    "\n",
    "$f(x_i)\\ =\\ <w\\ .\\ x_i>\\ +\\ b$\n",
    "\n",
    "if $f(x_i) > 0$ then $y_i = +1$ else $y_i = -1$\n",
    "\n",
    "#### **Multi-class classification**\n",
    "* **One vs Rest** - Learn to differentiate one class from the others\n",
    "* **One vs One** - Learn to differentiate only between two classes\n",
    "    * n-class SVM has $C(n, 2)$ classifiers\n",
    "\n",
    "#### **SVM Parameters**\n",
    "* **Regularization parameter $(c)$**: How much importance should you give individual data points as compared to better generalized model\n",
    "    * Larger values of $c$ = less regularization - Fit training data as well as possible, every data point is important.\n",
    "    * Smaller values of $c$ = more regularization - More tolerant to errors on individual data points\n",
    "* **Kernels**\n",
    "    * Linear kernels usually works better for text data\n",
    "    * Other kernels are `rbf`, `polynomial`, etc\n",
    "\n",
    "#### **Important Concepts**\n",
    "* SVMs tend to be the most accurate classifiers, especially in high-dimensional data\n",
    "* Strong theoretical foundations\n",
    "* Handles only numeric features\n",
    "    * Converts categorical features to numeric features\n",
    "    * Normalization\n",
    "* Hyperplane hard to interpret"
   ]
  },
  {
   "cell_type": "code",
   "execution_count": 1,
   "metadata": {},
   "outputs": [
    {
     "name": "stdout",
     "output_type": "stream",
     "text": [
      "TRAIN DATA:\n",
      "<class 'pandas.core.frame.DataFrame'>\n",
      "Int64Index: 60000 entries, 0 to 119981\n",
      "Data columns (total 3 columns):\n",
      " #   Column       Non-Null Count  Dtype \n",
      "---  ------       --------------  ----- \n",
      " 0   Class Index  60000 non-null  int64 \n",
      " 1   Title        60000 non-null  object\n",
      " 2   Description  60000 non-null  object\n",
      "dtypes: int64(1), object(2)\n",
      "memory usage: 1.8+ MB\n"
     ]
    },
    {
     "data": {
      "text/plain": [
       "None"
      ]
     },
     "metadata": {},
     "output_type": "display_data"
    },
    {
     "name": "stdout",
     "output_type": "stream",
     "text": [
      "\n",
      "TEST DATA:\n",
      "<class 'pandas.core.frame.DataFrame'>\n",
      "Int64Index: 3800 entries, 0 to 7599\n",
      "Data columns (total 3 columns):\n",
      " #   Column       Non-Null Count  Dtype \n",
      "---  ------       --------------  ----- \n",
      " 0   Class Index  3800 non-null   int64 \n",
      " 1   Title        3800 non-null   object\n",
      " 2   Description  3800 non-null   object\n",
      "dtypes: int64(1), object(2)\n",
      "memory usage: 118.8+ KB\n"
     ]
    },
    {
     "data": {
      "text/plain": [
       "None"
      ]
     },
     "metadata": {},
     "output_type": "display_data"
    }
   ],
   "source": [
    "import pandas as pd\n",
    "from sklearn.svm import SVC\n",
    "from sklearn.feature_extraction.text import CountVectorizer, HashingVectorizer\n",
    "from sklearn.metrics import f1_score\n",
    "\n",
    "train_df = pd.read_csv('../datasets/News_Classification/train.csv')\n",
    "test_df = pd.read_csv('../datasets/News_Classification/test.csv')\n",
    "\n",
    "# keeps only the Business(3) and Sci/Tech(4) news\n",
    "train_df = train_df[train_df['Class Index'].isin([3, 4])]\n",
    "test_df = test_df[test_df['Class Index'].isin([3, 4])]\n",
    "\n",
    "# transforms labels 3 -> 0 and 4 -> 1\n",
    "replace_labels = {3: -1, 4: 1}\n",
    "train_df['Class Index'].replace(replace_labels, inplace=True)\n",
    "test_df['Class Index'].replace(replace_labels, inplace=True)\n",
    "\n",
    "# concatenate title and description in only one text\n",
    "train_df['Description'] = train_df.apply(lambda x: ' '.join([str(x['Title']), str(x['Description'])]), axis=1)\n",
    "test_df['Description'] = test_df.apply(lambda x: ' '.join([str(x['Title']), str(x['Description'])]), axis=1)\n",
    "\n",
    "# gets X and y data\n",
    "X_train, y_train = train_df['Description'].to_list(), train_df['Class Index'].to_list()\n",
    "X_test, y_test = test_df['Description'].to_list(), test_df['Class Index'].to_list()\n",
    "\n",
    "print('TRAIN DATA:')\n",
    "display(train_df.info())\n",
    "\n",
    "print('\\nTEST DATA:')\n",
    "display(test_df.info())"
   ]
  },
  {
   "cell_type": "code",
   "execution_count": 2,
   "metadata": {},
   "outputs": [
    {
     "name": "stdout",
     "output_type": "stream",
     "text": [
      "0.8781578947368421\n"
     ]
    }
   ],
   "source": [
    "count_vectorizer = CountVectorizer(stop_words='english', max_features=500)\n",
    "X_train = count_vectorizer.fit_transform(X_train)\n",
    "X_test = count_vectorizer.transform(X_test)\n",
    "\n",
    "modelSVM = SVC(kernel='linear', C=0.1)\n",
    "modelSVM.fit(X_train, y_train)\n",
    "\n",
    "y_pred = modelSVM.predict(X_test)\n",
    "print(f1_score(y_test, y_pred, average='micro'))"
   ]
  }
 ],
 "metadata": {
  "kernelspec": {
   "display_name": "data-science",
   "language": "python",
   "name": "python3"
  },
  "language_info": {
   "codemirror_mode": {
    "name": "ipython",
    "version": 3
   },
   "file_extension": ".py",
   "mimetype": "text/x-python",
   "name": "python",
   "nbconvert_exporter": "python",
   "pygments_lexer": "ipython3",
   "version": "3.11.5"
  }
 },
 "nbformat": 4,
 "nbformat_minor": 2
}
